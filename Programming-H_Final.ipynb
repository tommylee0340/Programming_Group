{
 "cells": [
  {
   "cell_type": "markdown",
   "metadata": {},
   "source": [
    "<h1>\n",
    "    <br style =\"font-family:UCL-SoM-Outline;color:#EA7600\"> UCL </br> \n",
    "    <br style=\"font-family:UCL-SoM-Solid; color:#002147;\"> School of </br> \n",
    "    <br style=\"font-family:UCL-SoM-Solid; color:#002147;\"> Management </br> \n",
    "    </p>\n",
    "</h1>\n",
    "\n",
    "<div class=\"image\">\n",
    "\n",
    "<h4>\n",
    "          <p style=\"font-size:18pt\">MSIN0143 Group Coursework Team H</p>\n",
    "          <p style=\"font-size:18pt;font-family:UCL-SoM-Solid; color:#EA7600;\">WeiBin Guo, Chi Chung Yuen, Zhuohao Li, Student 4, Student 5 </p> \n",
    "          <p style=\"font-size:18pt\">Mobile Application Analytics </p>\n",
    " </h4>\n",
    "\n",
    "</div>"
   ]
  },
  {
   "cell_type": "markdown",
   "metadata": {},
   "source": [
    "# Apple Store dataset"
   ]
  },
  {
   "cell_type": "markdown",
   "metadata": {},
   "source": [
    "# Summary"
   ]
  },
  {
   "cell_type": "markdown",
   "metadata": {},
   "source": [
    "This dataset contains different factors that would affect the user ratings which we mainly focus on. After the initial analysis, we have assessed the validity of the data, discovered the relationship between variables and investigate the distribution of the individual variable. \n",
    "\n",
    "To further explore the dataset, we have conducted regression analysis to investigate if the length of APP name and APP description has a significant impact towards user ratings and performed a sentiment analysis to test the degree of subjectivity and polarity of APP descriptions. \n",
    "\n",
    "The results from these analyses are applied to prepare the data by data cleaning and engineering which enable the model testing on the effects of each variable has on user rating. This lead to a major finding that description subjectivity is the most important factor on user rating."
   ]
  },
  {
   "cell_type": "markdown",
   "metadata": {},
   "source": [
    "# 1. Business Objective"
   ]
  },
  {
   "cell_type": "markdown",
   "metadata": {},
   "source": [
    "Our project is aimed to:\n",
    "\n",
    "•\tAnalysing how factors such as price and genre for a mobile application helps increase its popularity and contributes to the overall user rating.\n",
    "\n",
    "•\tProviding statistical observations and deliver key and valuable insights to app developers for creating applications that fit the current market.\n"
   ]
  },
  {
   "cell_type": "markdown",
   "metadata": {},
   "source": [
    "# 2. Getting the data"
   ]
  },
  {
   "cell_type": "markdown",
   "metadata": {},
   "source": [
    "## 2.1 Install and import libraries and import the dataset"
   ]
  },
  {
   "cell_type": "markdown",
   "metadata": {},
   "source": [
    "#### Install the required library for the sentiment analysis of the APP description"
   ]
  },
  {
   "cell_type": "code",
   "execution_count": 128,
   "metadata": {},
   "outputs": [
    {
     "name": "stdout",
     "output_type": "stream",
     "text": [
      "Requirement already satisfied: textblob in /opt/anaconda/envs/Python3/lib/python3.6/site-packages (0.15.2)\n",
      "Requirement already satisfied: nltk>=3.1 in /opt/anaconda/envs/Python3/lib/python3.6/site-packages (from textblob) (3.3)\n",
      "Requirement already satisfied: six in /opt/anaconda/envs/Python3/lib/python3.6/site-packages (from nltk>=3.1->textblob) (1.11.0)\n",
      "\u001b[31mtwisted 18.7.0 requires PyHamcrest>=1.9.0, which is not installed.\u001b[0m\n",
      "\u001b[33mYou are using pip version 10.0.1, however version 18.1 is available.\n",
      "You should consider upgrading via the 'pip install --upgrade pip' command.\u001b[0m\n"
     ]
    }
   ],
   "source": [
    "!pip install textblob"
   ]
  },
  {
   "cell_type": "markdown",
   "metadata": {},
   "source": [
    "#### Import relevant libraries "
   ]
  },
  {
   "cell_type": "code",
   "execution_count": 129,
   "metadata": {},
   "outputs": [],
   "source": [
    "import pandas as pd\n",
    "import matplotlib.pyplot as plt\n",
    "import numpy as np\n",
    "from matplotlib.ticker import PercentFormatter\n",
    "import seaborn as sns\n",
    "import scipy\n",
    "\n",
    "from sklearn import linear_model\n",
    "from sklearn.model_selection import train_test_split\n",
    "import sklearn.metrics\n",
    "\n",
    "import statsmodels.api as sm\n",
    "from scipy.stats import pearsonr\n",
    "\n",
    "from textblob import TextBlob"
   ]
  },
  {
   "cell_type": "markdown",
   "metadata": {},
   "source": [
    "## 2.2 Data Preparation"
   ]
  },
  {
   "cell_type": "markdown",
   "metadata": {},
   "source": [
    "#### Data Source"
   ]
  },
  {
   "cell_type": "markdown",
   "metadata": {},
   "source": [
    "This dataset is obtained from Kaggle, containing two csv. files. One is about general information about app launched in App store and the other one is about the text descriptions of the apps."
   ]
  },
  {
   "cell_type": "code",
   "execution_count": 130,
   "metadata": {},
   "outputs": [],
   "source": [
    "data_desc = pd.read_csv('AppleStore.csv')\n",
    "desp = pd.read_csv('appleStore_description.csv')"
   ]
  },
  {
   "cell_type": "markdown",
   "metadata": {},
   "source": [
    "#### Dealing with raw data"
   ]
  },
  {
   "cell_type": "markdown",
   "metadata": {},
   "source": [
    "We can merge the main dataset with the description dataset through the unique APP id"
   ]
  },
  {
   "cell_type": "code",
   "execution_count": 131,
   "metadata": {},
   "outputs": [],
   "source": [
    "data = pd.merge(data_desc,desp,on='id',how='inner')"
   ]
  },
  {
   "cell_type": "code",
   "execution_count": 132,
   "metadata": {
    "scrolled": true
   },
   "outputs": [
    {
     "data": {
      "text/html": [
       "<div>\n",
       "<style scoped>\n",
       "    .dataframe tbody tr th:only-of-type {\n",
       "        vertical-align: middle;\n",
       "    }\n",
       "\n",
       "    .dataframe tbody tr th {\n",
       "        vertical-align: top;\n",
       "    }\n",
       "\n",
       "    .dataframe thead th {\n",
       "        text-align: right;\n",
       "    }\n",
       "</style>\n",
       "<table border=\"1\" class=\"dataframe\">\n",
       "  <thead>\n",
       "    <tr style=\"text-align: right;\">\n",
       "      <th></th>\n",
       "      <th>Unnamed: 0</th>\n",
       "      <th>id</th>\n",
       "      <th>track_name_x</th>\n",
       "      <th>size_bytes_x</th>\n",
       "      <th>currency</th>\n",
       "      <th>price</th>\n",
       "      <th>rating_count_tot</th>\n",
       "      <th>rating_count_ver</th>\n",
       "      <th>user_rating</th>\n",
       "      <th>user_rating_ver</th>\n",
       "      <th>ver</th>\n",
       "      <th>cont_rating</th>\n",
       "      <th>prime_genre</th>\n",
       "      <th>sup_devices.num</th>\n",
       "      <th>ipadSc_urls.num</th>\n",
       "      <th>lang.num</th>\n",
       "      <th>vpp_lic</th>\n",
       "      <th>track_name_y</th>\n",
       "      <th>size_bytes_y</th>\n",
       "      <th>app_desc</th>\n",
       "    </tr>\n",
       "  </thead>\n",
       "  <tbody>\n",
       "    <tr>\n",
       "      <th>0</th>\n",
       "      <td>1</td>\n",
       "      <td>281656475</td>\n",
       "      <td>PAC-MAN Premium</td>\n",
       "      <td>100788224</td>\n",
       "      <td>USD</td>\n",
       "      <td>3.99</td>\n",
       "      <td>21292</td>\n",
       "      <td>26</td>\n",
       "      <td>4.0</td>\n",
       "      <td>4.5</td>\n",
       "      <td>6.3.5</td>\n",
       "      <td>4+</td>\n",
       "      <td>Games</td>\n",
       "      <td>38</td>\n",
       "      <td>5</td>\n",
       "      <td>10</td>\n",
       "      <td>1</td>\n",
       "      <td>PAC-MAN Premium</td>\n",
       "      <td>100788224</td>\n",
       "      <td>SAVE 20%, now only $3.99 for a limited time!\\n...</td>\n",
       "    </tr>\n",
       "    <tr>\n",
       "      <th>1</th>\n",
       "      <td>2</td>\n",
       "      <td>281796108</td>\n",
       "      <td>Evernote - stay organized</td>\n",
       "      <td>158578688</td>\n",
       "      <td>USD</td>\n",
       "      <td>0.00</td>\n",
       "      <td>161065</td>\n",
       "      <td>26</td>\n",
       "      <td>4.0</td>\n",
       "      <td>3.5</td>\n",
       "      <td>8.2.2</td>\n",
       "      <td>4+</td>\n",
       "      <td>Productivity</td>\n",
       "      <td>37</td>\n",
       "      <td>5</td>\n",
       "      <td>23</td>\n",
       "      <td>1</td>\n",
       "      <td>Evernote - stay organized</td>\n",
       "      <td>158578688</td>\n",
       "      <td>Let Evernote change the way you organize your ...</td>\n",
       "    </tr>\n",
       "    <tr>\n",
       "      <th>2</th>\n",
       "      <td>3</td>\n",
       "      <td>281940292</td>\n",
       "      <td>WeatherBug - Local Weather, Radar, Maps, Alerts</td>\n",
       "      <td>100524032</td>\n",
       "      <td>USD</td>\n",
       "      <td>0.00</td>\n",
       "      <td>188583</td>\n",
       "      <td>2822</td>\n",
       "      <td>3.5</td>\n",
       "      <td>4.5</td>\n",
       "      <td>5.0.0</td>\n",
       "      <td>4+</td>\n",
       "      <td>Weather</td>\n",
       "      <td>37</td>\n",
       "      <td>5</td>\n",
       "      <td>3</td>\n",
       "      <td>1</td>\n",
       "      <td>WeatherBug - Local Weather, Radar, Maps, Alerts</td>\n",
       "      <td>100524032</td>\n",
       "      <td>Download the most popular free weather app pow...</td>\n",
       "    </tr>\n",
       "    <tr>\n",
       "      <th>3</th>\n",
       "      <td>4</td>\n",
       "      <td>282614216</td>\n",
       "      <td>eBay: Best App to Buy, Sell, Save! Online Shop...</td>\n",
       "      <td>128512000</td>\n",
       "      <td>USD</td>\n",
       "      <td>0.00</td>\n",
       "      <td>262241</td>\n",
       "      <td>649</td>\n",
       "      <td>4.0</td>\n",
       "      <td>4.5</td>\n",
       "      <td>5.10.0</td>\n",
       "      <td>12+</td>\n",
       "      <td>Shopping</td>\n",
       "      <td>37</td>\n",
       "      <td>5</td>\n",
       "      <td>9</td>\n",
       "      <td>1</td>\n",
       "      <td>eBay: Best App to Buy, Sell, Save! Online Shop...</td>\n",
       "      <td>128512000</td>\n",
       "      <td>The eBay app is the best way to find anything ...</td>\n",
       "    </tr>\n",
       "    <tr>\n",
       "      <th>4</th>\n",
       "      <td>5</td>\n",
       "      <td>282935706</td>\n",
       "      <td>Bible</td>\n",
       "      <td>92774400</td>\n",
       "      <td>USD</td>\n",
       "      <td>0.00</td>\n",
       "      <td>985920</td>\n",
       "      <td>5320</td>\n",
       "      <td>4.5</td>\n",
       "      <td>5.0</td>\n",
       "      <td>7.5.1</td>\n",
       "      <td>4+</td>\n",
       "      <td>Reference</td>\n",
       "      <td>37</td>\n",
       "      <td>5</td>\n",
       "      <td>45</td>\n",
       "      <td>1</td>\n",
       "      <td>Bible</td>\n",
       "      <td>92774400</td>\n",
       "      <td>On more than 250 million devices around the wo...</td>\n",
       "    </tr>\n",
       "  </tbody>\n",
       "</table>\n",
       "</div>"
      ],
      "text/plain": [
       "   Unnamed: 0         id                                       track_name_x  \\\n",
       "0           1  281656475                                    PAC-MAN Premium   \n",
       "1           2  281796108                          Evernote - stay organized   \n",
       "2           3  281940292    WeatherBug - Local Weather, Radar, Maps, Alerts   \n",
       "3           4  282614216  eBay: Best App to Buy, Sell, Save! Online Shop...   \n",
       "4           5  282935706                                              Bible   \n",
       "\n",
       "   size_bytes_x currency  price  rating_count_tot  rating_count_ver  \\\n",
       "0     100788224      USD   3.99             21292                26   \n",
       "1     158578688      USD   0.00            161065                26   \n",
       "2     100524032      USD   0.00            188583              2822   \n",
       "3     128512000      USD   0.00            262241               649   \n",
       "4      92774400      USD   0.00            985920              5320   \n",
       "\n",
       "   user_rating  user_rating_ver     ver cont_rating   prime_genre  \\\n",
       "0          4.0              4.5   6.3.5          4+         Games   \n",
       "1          4.0              3.5   8.2.2          4+  Productivity   \n",
       "2          3.5              4.5   5.0.0          4+       Weather   \n",
       "3          4.0              4.5  5.10.0         12+      Shopping   \n",
       "4          4.5              5.0   7.5.1          4+     Reference   \n",
       "\n",
       "   sup_devices.num  ipadSc_urls.num  lang.num  vpp_lic  \\\n",
       "0               38                5        10        1   \n",
       "1               37                5        23        1   \n",
       "2               37                5         3        1   \n",
       "3               37                5         9        1   \n",
       "4               37                5        45        1   \n",
       "\n",
       "                                        track_name_y  size_bytes_y  \\\n",
       "0                                    PAC-MAN Premium     100788224   \n",
       "1                          Evernote - stay organized     158578688   \n",
       "2    WeatherBug - Local Weather, Radar, Maps, Alerts     100524032   \n",
       "3  eBay: Best App to Buy, Sell, Save! Online Shop...     128512000   \n",
       "4                                              Bible      92774400   \n",
       "\n",
       "                                            app_desc  \n",
       "0  SAVE 20%, now only $3.99 for a limited time!\\n...  \n",
       "1  Let Evernote change the way you organize your ...  \n",
       "2  Download the most popular free weather app pow...  \n",
       "3  The eBay app is the best way to find anything ...  \n",
       "4  On more than 250 million devices around the wo...  "
      ]
     },
     "execution_count": 132,
     "metadata": {},
     "output_type": "execute_result"
    }
   ],
   "source": [
    "data.head()"
   ]
  },
  {
   "cell_type": "markdown",
   "metadata": {},
   "source": [
    "# 3.Explore the data"
   ]
  },
  {
   "cell_type": "markdown",
   "metadata": {},
   "source": [
    "## 3.1 Analyse each variabe type"
   ]
  },
  {
   "cell_type": "code",
   "execution_count": 133,
   "metadata": {},
   "outputs": [
    {
     "data": {
      "text/plain": [
       "Unnamed: 0            int64\n",
       "id                    int64\n",
       "track_name_x         object\n",
       "size_bytes_x          int64\n",
       "currency             object\n",
       "price               float64\n",
       "rating_count_tot      int64\n",
       "rating_count_ver      int64\n",
       "user_rating         float64\n",
       "user_rating_ver     float64\n",
       "ver                  object\n",
       "cont_rating          object\n",
       "prime_genre          object\n",
       "sup_devices.num       int64\n",
       "ipadSc_urls.num       int64\n",
       "lang.num              int64\n",
       "vpp_lic               int64\n",
       "track_name_y         object\n",
       "size_bytes_y          int64\n",
       "app_desc             object\n",
       "dtype: object"
      ]
     },
     "execution_count": 133,
     "metadata": {},
     "output_type": "execute_result"
    }
   ],
   "source": [
    "data.dtypes"
   ]
  },
  {
   "cell_type": "markdown",
   "metadata": {},
   "source": [
    "This shows the type of each variable."
   ]
  },
  {
   "cell_type": "code",
   "execution_count": 134,
   "metadata": {},
   "outputs": [
    {
     "data": {
      "text/html": [
       "<div>\n",
       "<style scoped>\n",
       "    .dataframe tbody tr th:only-of-type {\n",
       "        vertical-align: middle;\n",
       "    }\n",
       "\n",
       "    .dataframe tbody tr th {\n",
       "        vertical-align: top;\n",
       "    }\n",
       "\n",
       "    .dataframe thead th {\n",
       "        text-align: right;\n",
       "    }\n",
       "</style>\n",
       "<table border=\"1\" class=\"dataframe\">\n",
       "  <thead>\n",
       "    <tr style=\"text-align: right;\">\n",
       "      <th></th>\n",
       "      <th>Unnamed: 0</th>\n",
       "      <th>id</th>\n",
       "      <th>size_bytes_x</th>\n",
       "      <th>price</th>\n",
       "      <th>rating_count_tot</th>\n",
       "      <th>rating_count_ver</th>\n",
       "      <th>user_rating</th>\n",
       "      <th>user_rating_ver</th>\n",
       "      <th>sup_devices.num</th>\n",
       "      <th>ipadSc_urls.num</th>\n",
       "      <th>lang.num</th>\n",
       "      <th>vpp_lic</th>\n",
       "      <th>size_bytes_y</th>\n",
       "    </tr>\n",
       "  </thead>\n",
       "  <tbody>\n",
       "    <tr>\n",
       "      <th>count</th>\n",
       "      <td>7197.000000</td>\n",
       "      <td>7.197000e+03</td>\n",
       "      <td>7.197000e+03</td>\n",
       "      <td>7197.000000</td>\n",
       "      <td>7.197000e+03</td>\n",
       "      <td>7197.000000</td>\n",
       "      <td>7197.000000</td>\n",
       "      <td>7197.000000</td>\n",
       "      <td>7197.000000</td>\n",
       "      <td>7197.000000</td>\n",
       "      <td>7197.000000</td>\n",
       "      <td>7197.000000</td>\n",
       "      <td>7.197000e+03</td>\n",
       "    </tr>\n",
       "    <tr>\n",
       "      <th>mean</th>\n",
       "      <td>4759.069612</td>\n",
       "      <td>8.631310e+08</td>\n",
       "      <td>1.991345e+08</td>\n",
       "      <td>1.726218</td>\n",
       "      <td>1.289291e+04</td>\n",
       "      <td>460.373906</td>\n",
       "      <td>3.526956</td>\n",
       "      <td>3.253578</td>\n",
       "      <td>37.361817</td>\n",
       "      <td>3.707100</td>\n",
       "      <td>5.434903</td>\n",
       "      <td>0.993053</td>\n",
       "      <td>1.991345e+08</td>\n",
       "    </tr>\n",
       "    <tr>\n",
       "      <th>std</th>\n",
       "      <td>3093.625213</td>\n",
       "      <td>2.712368e+08</td>\n",
       "      <td>3.592069e+08</td>\n",
       "      <td>5.833006</td>\n",
       "      <td>7.573941e+04</td>\n",
       "      <td>3920.455183</td>\n",
       "      <td>1.517948</td>\n",
       "      <td>1.809363</td>\n",
       "      <td>3.737715</td>\n",
       "      <td>1.986005</td>\n",
       "      <td>7.919593</td>\n",
       "      <td>0.083066</td>\n",
       "      <td>3.592069e+08</td>\n",
       "    </tr>\n",
       "    <tr>\n",
       "      <th>min</th>\n",
       "      <td>1.000000</td>\n",
       "      <td>2.816565e+08</td>\n",
       "      <td>5.898240e+05</td>\n",
       "      <td>0.000000</td>\n",
       "      <td>0.000000e+00</td>\n",
       "      <td>0.000000</td>\n",
       "      <td>0.000000</td>\n",
       "      <td>0.000000</td>\n",
       "      <td>9.000000</td>\n",
       "      <td>0.000000</td>\n",
       "      <td>0.000000</td>\n",
       "      <td>0.000000</td>\n",
       "      <td>5.898240e+05</td>\n",
       "    </tr>\n",
       "    <tr>\n",
       "      <th>25%</th>\n",
       "      <td>2090.000000</td>\n",
       "      <td>6.000937e+08</td>\n",
       "      <td>4.692275e+07</td>\n",
       "      <td>0.000000</td>\n",
       "      <td>2.800000e+01</td>\n",
       "      <td>1.000000</td>\n",
       "      <td>3.500000</td>\n",
       "      <td>2.500000</td>\n",
       "      <td>37.000000</td>\n",
       "      <td>3.000000</td>\n",
       "      <td>1.000000</td>\n",
       "      <td>1.000000</td>\n",
       "      <td>4.692275e+07</td>\n",
       "    </tr>\n",
       "    <tr>\n",
       "      <th>50%</th>\n",
       "      <td>4380.000000</td>\n",
       "      <td>9.781482e+08</td>\n",
       "      <td>9.715302e+07</td>\n",
       "      <td>0.000000</td>\n",
       "      <td>3.000000e+02</td>\n",
       "      <td>23.000000</td>\n",
       "      <td>4.000000</td>\n",
       "      <td>4.000000</td>\n",
       "      <td>37.000000</td>\n",
       "      <td>5.000000</td>\n",
       "      <td>1.000000</td>\n",
       "      <td>1.000000</td>\n",
       "      <td>9.715302e+07</td>\n",
       "    </tr>\n",
       "    <tr>\n",
       "      <th>75%</th>\n",
       "      <td>7223.000000</td>\n",
       "      <td>1.082310e+09</td>\n",
       "      <td>1.819249e+08</td>\n",
       "      <td>1.990000</td>\n",
       "      <td>2.793000e+03</td>\n",
       "      <td>140.000000</td>\n",
       "      <td>4.500000</td>\n",
       "      <td>4.500000</td>\n",
       "      <td>38.000000</td>\n",
       "      <td>5.000000</td>\n",
       "      <td>8.000000</td>\n",
       "      <td>1.000000</td>\n",
       "      <td>1.819249e+08</td>\n",
       "    </tr>\n",
       "    <tr>\n",
       "      <th>max</th>\n",
       "      <td>11097.000000</td>\n",
       "      <td>1.188376e+09</td>\n",
       "      <td>4.025970e+09</td>\n",
       "      <td>299.990000</td>\n",
       "      <td>2.974676e+06</td>\n",
       "      <td>177050.000000</td>\n",
       "      <td>5.000000</td>\n",
       "      <td>5.000000</td>\n",
       "      <td>47.000000</td>\n",
       "      <td>5.000000</td>\n",
       "      <td>75.000000</td>\n",
       "      <td>1.000000</td>\n",
       "      <td>4.025970e+09</td>\n",
       "    </tr>\n",
       "  </tbody>\n",
       "</table>\n",
       "</div>"
      ],
      "text/plain": [
       "         Unnamed: 0            id  size_bytes_x        price  \\\n",
       "count   7197.000000  7.197000e+03  7.197000e+03  7197.000000   \n",
       "mean    4759.069612  8.631310e+08  1.991345e+08     1.726218   \n",
       "std     3093.625213  2.712368e+08  3.592069e+08     5.833006   \n",
       "min        1.000000  2.816565e+08  5.898240e+05     0.000000   \n",
       "25%     2090.000000  6.000937e+08  4.692275e+07     0.000000   \n",
       "50%     4380.000000  9.781482e+08  9.715302e+07     0.000000   \n",
       "75%     7223.000000  1.082310e+09  1.819249e+08     1.990000   \n",
       "max    11097.000000  1.188376e+09  4.025970e+09   299.990000   \n",
       "\n",
       "       rating_count_tot  rating_count_ver  user_rating  user_rating_ver  \\\n",
       "count      7.197000e+03       7197.000000  7197.000000      7197.000000   \n",
       "mean       1.289291e+04        460.373906     3.526956         3.253578   \n",
       "std        7.573941e+04       3920.455183     1.517948         1.809363   \n",
       "min        0.000000e+00          0.000000     0.000000         0.000000   \n",
       "25%        2.800000e+01          1.000000     3.500000         2.500000   \n",
       "50%        3.000000e+02         23.000000     4.000000         4.000000   \n",
       "75%        2.793000e+03        140.000000     4.500000         4.500000   \n",
       "max        2.974676e+06     177050.000000     5.000000         5.000000   \n",
       "\n",
       "       sup_devices.num  ipadSc_urls.num     lang.num      vpp_lic  \\\n",
       "count      7197.000000      7197.000000  7197.000000  7197.000000   \n",
       "mean         37.361817         3.707100     5.434903     0.993053   \n",
       "std           3.737715         1.986005     7.919593     0.083066   \n",
       "min           9.000000         0.000000     0.000000     0.000000   \n",
       "25%          37.000000         3.000000     1.000000     1.000000   \n",
       "50%          37.000000         5.000000     1.000000     1.000000   \n",
       "75%          38.000000         5.000000     8.000000     1.000000   \n",
       "max          47.000000         5.000000    75.000000     1.000000   \n",
       "\n",
       "       size_bytes_y  \n",
       "count  7.197000e+03  \n",
       "mean   1.991345e+08  \n",
       "std    3.592069e+08  \n",
       "min    5.898240e+05  \n",
       "25%    4.692275e+07  \n",
       "50%    9.715302e+07  \n",
       "75%    1.819249e+08  \n",
       "max    4.025970e+09  "
      ]
     },
     "execution_count": 134,
     "metadata": {},
     "output_type": "execute_result"
    }
   ],
   "source": [
    "data.describe()"
   ]
  },
  {
   "cell_type": "markdown",
   "metadata": {},
   "source": [
    "The dependent variable in this analysis is the user_rating. According to this dataset summary, the user_rating has a value range from 0 to 5 and the average is about 3.52. Another interesting variable is the price, which has an average value of 1.72."
   ]
  },
  {
   "cell_type": "code",
   "execution_count": 135,
   "metadata": {},
   "outputs": [
    {
     "data": {
      "text/plain": [
       "(7197, 20)"
      ]
     },
     "execution_count": 135,
     "metadata": {},
     "output_type": "execute_result"
    }
   ],
   "source": [
    "data.shape"
   ]
  },
  {
   "cell_type": "markdown",
   "metadata": {},
   "source": [
    "And the dataset contains 7,197 rows (each row represents one APP) and there are, in total, 20 features available for analysis"
   ]
  },
  {
   "cell_type": "markdown",
   "metadata": {},
   "source": [
    "## 3.2 Check missing values in the dataset "
   ]
  },
  {
   "cell_type": "code",
   "execution_count": 136,
   "metadata": {},
   "outputs": [
    {
     "data": {
      "text/plain": [
       "Unnamed: 0          0.0\n",
       "id                  0.0\n",
       "track_name_x        0.0\n",
       "size_bytes_x        0.0\n",
       "currency            0.0\n",
       "price               0.0\n",
       "rating_count_tot    0.0\n",
       "rating_count_ver    0.0\n",
       "user_rating         0.0\n",
       "user_rating_ver     0.0\n",
       "ver                 0.0\n",
       "cont_rating         0.0\n",
       "prime_genre         0.0\n",
       "sup_devices.num     0.0\n",
       "ipadSc_urls.num     0.0\n",
       "lang.num            0.0\n",
       "vpp_lic             0.0\n",
       "track_name_y        0.0\n",
       "size_bytes_y        0.0\n",
       "app_desc            0.0\n",
       "dtype: float64"
      ]
     },
     "execution_count": 136,
     "metadata": {},
     "output_type": "execute_result"
    }
   ],
   "source": [
    "data.isnull().mean() * 100"
   ]
  },
  {
   "cell_type": "markdown",
   "metadata": {},
   "source": [
    "No missing values are contained in this dataset and therefore, no pre-processing of the missing values are required for this dataset"
   ]
  },
  {
   "cell_type": "markdown",
   "metadata": {},
   "source": [
    "## 3.3 Check outliers for each variable\n"
   ]
  },
  {
   "cell_type": "code",
   "execution_count": 137,
   "metadata": {},
   "outputs": [
    {
     "name": "stdout",
     "output_type": "stream",
     "text": [
      "Identified outliers of price:49\n",
      "Identified outliers of lang.num:199\n",
      "Identified outliers of size_bytes_x:165\n",
      "Identified outliers of rating_count_tot:80\n",
      "Identified outliers of user_rating_ver:0\n",
      "Identified outliers of user_rating:0\n",
      "Identified outliers of rating_count_ver:34\n",
      "Identified outliers of sup_devices.num:402\n"
     ]
    }
   ],
   "source": [
    "def getoutliers(i):\n",
    "    data_mean, data_std = np.mean(i), np.std(i)\n",
    "    cut_off = data_std * 3\n",
    "    lower, upper = data_mean - cut_off, data_mean + cut_off\n",
    "    outliers = [x for x in i if x < lower or x > upper]\n",
    "    print('Identified outliers of' + ' ' + str(i.name) + ':%d' % len(outliers))\n",
    "\n",
    "getoutliers(data['price'])\n",
    "getoutliers(data['lang.num'])\n",
    "getoutliers(data['size_bytes_x'])\n",
    "getoutliers(data['rating_count_tot'])\n",
    "getoutliers(data['user_rating_ver'])\n",
    "getoutliers(data['user_rating'])\n",
    "getoutliers(data['rating_count_ver'])\n",
    "getoutliers(data['sup_devices.num'])"
   ]
  },
  {
   "cell_type": "markdown",
   "metadata": {},
   "source": [
    "Outliers are found in this dataset for some variables. However, since they are all valid data, there is no need to remove these outliers. "
   ]
  },
  {
   "cell_type": "markdown",
   "metadata": {},
   "source": [
    "## 3.4 Correlation between each variables"
   ]
  },
  {
   "cell_type": "code",
   "execution_count": 138,
   "metadata": {},
   "outputs": [
    {
     "data": {
      "text/plain": [
       "<matplotlib.axes._subplots.AxesSubplot at 0x7f4cf040e6d8>"
      ]
     },
     "execution_count": 138,
     "metadata": {},
     "output_type": "execute_result"
    },
    {
     "data": {
      "image/png": "[encoded data removed]",
      "text/plain": [
       "<Figure size 576x576 with 2 Axes>"
      ]
     },
     "metadata": {
      "needs_background": "light"
     },
     "output_type": "display_data"
    }
   ],
   "source": [
    "plt.figure(figsize=(8,8))\n",
    "sns.heatmap(data.corr(), cmap='BuGn')"
   ]
  },
  {
   "cell_type": "code",
   "execution_count": 139,
   "metadata": {},
   "outputs": [
    {
     "data": {
      "text/plain": [
       "0.26567135727082414"
      ]
     },
     "execution_count": 139,
     "metadata": {},
     "output_type": "execute_result"
    }
   ],
   "source": [
    "data['user_rating'].corr(data['ipadSc_urls.num'])"
   ]
  },
  {
   "cell_type": "code",
   "execution_count": 140,
   "metadata": {},
   "outputs": [
    {
     "data": {
      "text/plain": [
       "0.17097627663919113"
      ]
     },
     "execution_count": 140,
     "metadata": {},
     "output_type": "execute_result"
    }
   ],
   "source": [
    "data['user_rating'].corr(data['lang.num'])"
   ]
  },
  {
   "cell_type": "markdown",
   "metadata": {},
   "source": [
    "From the table above, it shows the correlations between different variables, which helps us to identify possibly high correlation between variables. For example, it shows that there is correlation between user ratings and  ipadSc_urls.num. This shows that the number of screenshots showed on display are likely to affect the user ratings. Also, it shows that the number of languages the application support could also affect the user ratings. "
   ]
  },
  {
   "cell_type": "markdown",
   "metadata": {},
   "source": [
    "## 3.5 Check the distribution of the dependent and independent variables"
   ]
  },
  {
   "cell_type": "code",
   "execution_count": 141,
   "metadata": {},
   "outputs": [
    {
     "data": {
      "image/png": "[encoded data removed]",
      "text/plain": [
       "<Figure size 432x288 with 1 Axes>"
      ]
     },
     "metadata": {
      "needs_background": "light"
     },
     "output_type": "display_data"
    }
   ],
   "source": [
    "rating_sum = data['user_rating'].value_counts().sort_index(ascending=True).sum()\n",
    "rating_prop = data['user_rating'].value_counts().sort_index(ascending=True)/rating_sum\n",
    "ax = rating_prop.plot(kind='bar')\n",
    "ax.set_xlabel('user_rating')\n",
    "ax.set_ylabel('Probability')\n",
    "plt.show()"
   ]
  },
  {
   "cell_type": "markdown",
   "metadata": {},
   "source": [
    "With a default rating system, users are able to rate the app from 0.0 to 5.0. The above graph shows the distribution of the user rating of the apps in our dataset. Generally speaking, user ratings are slightly right-skewed, meaning that most apps have a high rating. The percentage grows step by step. The most popular rating is 4.5, but for 5.0, it falls a lot so we can say little apps can reach a full score. Another point worth nothing is that there are almost 12% of apps have a rating of zero, which might be new apps so not enough people are using or rating, or apps whose design or service are really bad. Their situations are a bit extreme so that it might be problematic if they are used in the model building stage."
   ]
  },
  {
   "cell_type": "code",
   "execution_count": 142,
   "metadata": {},
   "outputs": [
    {
     "data": {
      "text/plain": [
       "<function matplotlib.pyplot.show(*args, **kw)>"
      ]
     },
     "execution_count": 142,
     "metadata": {},
     "output_type": "execute_result"
    },
    {
     "data": {
      "image/png": "[encoded data removed]",
      "text/plain": [
       "<Figure size 432x288 with 1 Axes>"
      ]
     },
     "metadata": {
      "needs_background": "light"
     },
     "output_type": "display_data"
    }
   ],
   "source": [
    "plt.hist(data['size_bytes_x'], bins=100, density=True)\n",
    "plt.ylabel('Probability')\n",
    "plt.xlabel('Size Bytes')\n",
    "plt.show"
   ]
  },
  {
   "cell_type": "markdown",
   "metadata": {},
   "source": [
    "The above graph shows the distribution of the size_byte variable, which is extremely left-skewed, meaning that most apps have a relatively small size while a small number of apps have a very large size. The skewness can be a problem in generating our model. Therefore, it is better to log the size byte variable and make it more normally distributed."
   ]
  },
  {
   "cell_type": "code",
   "execution_count": 143,
   "metadata": {},
   "outputs": [
    {
     "data": {
      "image/png": "[encoded data removed]",
      "text/plain": [
       "<Figure size 432x288 with 1 Axes>"
      ]
     },
     "metadata": {
      "needs_background": "light"
     },
     "output_type": "display_data"
    }
   ],
   "source": [
    "plt.hist(np.log(data['size_bytes_x']), bins=100, density=True)\n",
    "plt.ylabel('Probability')\n",
    "plt.xlabel('log(Size Bytes)')\n",
    "plt.show()"
   ]
  },
  {
   "cell_type": "markdown",
   "metadata": {},
   "source": [
    "After taking the log for the size, we are able to see that most are centered on 18, ranging from less than 14 to more than 22. The distribution looks normal and skewness is eliminated. "
   ]
  },
  {
   "cell_type": "code",
   "execution_count": 144,
   "metadata": {
    "scrolled": true
   },
   "outputs": [
    {
     "data": {
      "image/png": "[encoded data removed]",
      "text/plain": [
       "<Figure size 432x288 with 1 Axes>"
      ]
     },
     "metadata": {
      "needs_background": "light"
     },
     "output_type": "display_data"
    }
   ],
   "source": [
    "plt.hist(data['price'], bins=100, density=True)\n",
    "plt.ylabel('Probability')\n",
    "plt.xlabel('price')\n",
    "plt.show()"
   ]
  },
  {
   "cell_type": "markdown",
   "metadata": {},
   "source": [
    "For the apps in our dataset, price is rather low and has a little bit left skewness. We can say apps in the market nowdays charge less and many are even free. High priced apps are not popular. Unless it has great functions, it would be risky to price in the high level."
   ]
  },
  {
   "cell_type": "code",
   "execution_count": 145,
   "metadata": {},
   "outputs": [
    {
     "data": {
      "text/html": [
       "<div>\n",
       "<style scoped>\n",
       "    .dataframe tbody tr th:only-of-type {\n",
       "        vertical-align: middle;\n",
       "    }\n",
       "\n",
       "    .dataframe tbody tr th {\n",
       "        vertical-align: top;\n",
       "    }\n",
       "\n",
       "    .dataframe thead th {\n",
       "        text-align: right;\n",
       "    }\n",
       "</style>\n",
       "<table border=\"1\" class=\"dataframe\">\n",
       "  <thead>\n",
       "    <tr style=\"text-align: right;\">\n",
       "      <th></th>\n",
       "      <th>track_name_x</th>\n",
       "      <th>price</th>\n",
       "    </tr>\n",
       "  </thead>\n",
       "  <tbody>\n",
       "    <tr>\n",
       "      <th>1479</th>\n",
       "      <td>LAMP Words For Life</td>\n",
       "      <td>299.99</td>\n",
       "    </tr>\n",
       "    <tr>\n",
       "      <th>115</th>\n",
       "      <td>Proloquo2Go - Symbol-based AAC</td>\n",
       "      <td>249.99</td>\n",
       "    </tr>\n",
       "    <tr>\n",
       "      <th>2568</th>\n",
       "      <td>KNFB Reader</td>\n",
       "      <td>99.99</td>\n",
       "    </tr>\n",
       "    <tr>\n",
       "      <th>162</th>\n",
       "      <td>NAVIGON Europe</td>\n",
       "      <td>74.99</td>\n",
       "    </tr>\n",
       "    <tr>\n",
       "      <th>3238</th>\n",
       "      <td>FineScanner Pro - PDF Document Scanner App + OCR</td>\n",
       "      <td>59.99</td>\n",
       "    </tr>\n",
       "    <tr>\n",
       "      <th>1136</th>\n",
       "      <td>Articulation Station Pro</td>\n",
       "      <td>59.99</td>\n",
       "    </tr>\n",
       "    <tr>\n",
       "      <th>2181</th>\n",
       "      <td>Articulation Test Center Pro</td>\n",
       "      <td>59.99</td>\n",
       "    </tr>\n",
       "    <tr>\n",
       "      <th>5340</th>\n",
       "      <td>VPN Pro | Lifetime Proxy &amp; Best VPN by Betternet</td>\n",
       "      <td>49.99</td>\n",
       "    </tr>\n",
       "    <tr>\n",
       "      <th>1688</th>\n",
       "      <td>Cubasis 2 - Mobile Music Creation System</td>\n",
       "      <td>49.99</td>\n",
       "    </tr>\n",
       "    <tr>\n",
       "      <th>778</th>\n",
       "      <td>プチ・ロワイヤル仏和辞典（第4版）・和仏辞典（第3版）</td>\n",
       "      <td>47.99</td>\n",
       "    </tr>\n",
       "  </tbody>\n",
       "</table>\n",
       "</div>"
      ],
      "text/plain": [
       "                                          track_name_x   price\n",
       "1479                               LAMP Words For Life  299.99\n",
       "115                     Proloquo2Go - Symbol-based AAC  249.99\n",
       "2568                                       KNFB Reader   99.99\n",
       "162                                     NAVIGON Europe   74.99\n",
       "3238  FineScanner Pro - PDF Document Scanner App + OCR   59.99\n",
       "1136                          Articulation Station Pro   59.99\n",
       "2181                      Articulation Test Center Pro   59.99\n",
       "5340  VPN Pro | Lifetime Proxy & Best VPN by Betternet   49.99\n",
       "1688          Cubasis 2 - Mobile Music Creation System   49.99\n",
       "778                        プチ・ロワイヤル仏和辞典（第4版）・和仏辞典（第3版）   47.99"
      ]
     },
     "execution_count": 145,
     "metadata": {},
     "output_type": "execute_result"
    }
   ],
   "source": [
    "data[['track_name_x','price']].sort_values(by='price',ascending=False)[:10]"
   ]
  },
  {
   "cell_type": "code",
   "execution_count": 146,
   "metadata": {},
   "outputs": [
    {
     "name": "stdout",
     "output_type": "stream",
     "text": [
      "The average price is 1.7262178685562626\n",
      "The 75% percentile of price is 1.99\n"
     ]
    }
   ],
   "source": [
    "print('The average price is '+str(np.mean(data['price'])))\n",
    "print('The 75% percentile of price is '+str(np.percentile(data['price'],75)))"
   ]
  },
  {
   "cell_type": "markdown",
   "metadata": {},
   "source": [
    "The above table shows the 10 most expensive APPs in this dataset. This suggests that some APPs are so expensive as compared to the majority of APPs. In fact, the average price is only 1.73 and the 75% pecentile is only 1.99. "
   ]
  },
  {
   "cell_type": "markdown",
   "metadata": {},
   "source": [
    "If we can remove some apps that are too expensive and then we can see count of paid apps is exponentially decreases as the price increases, which is shown below."
   ]
  },
  {
   "cell_type": "code",
   "execution_count": 147,
   "metadata": {},
   "outputs": [
    {
     "data": {
      "image/png": "[encoded data removed]",
      "text/plain": [
       "<Figure size 432x288 with 1 Axes>"
      ]
     },
     "metadata": {
      "needs_background": "light"
     },
     "output_type": "display_data"
    }
   ],
   "source": [
    "plt.hist(data['price'][data['price']<=10], bins=10)\n",
    "plt.ylabel('Count')\n",
    "plt.xlabel('price')\n",
    "plt.show()"
   ]
  },
  {
   "cell_type": "code",
   "execution_count": 148,
   "metadata": {
    "scrolled": false
   },
   "outputs": [
    {
     "data": {
      "image/png": "[encoded data removed]",
      "text/plain": [
       "<Figure size 432x288 with 4 Axes>"
      ]
     },
     "metadata": {
      "needs_background": "light"
     },
     "output_type": "display_data"
    }
   ],
   "source": [
    "#n_bins = 10\n",
    "\n",
    "fig, axes = plt.subplots(nrows=2, ncols=2)\n",
    "ax0, ax1, ax2, ax3 = axes.flatten()\n",
    "\n",
    "ax0.hist(data['rating_count_tot'], bins=20,density=True)\n",
    "#ax0.legend(prop={'size': 10})\n",
    "ax0.set_title('rating_count_tot')\n",
    "\n",
    "ax1.hist(data['lang.num'], 10, density=True)\n",
    "ax1.set_title('lang.num')\n",
    "\n",
    "ax2.hist(data['sup_devices.num'], 100, density=True)\n",
    "ax2.set_title('sup_devices.num')\n",
    "\n",
    "# Make a multiple-histogram of data-sets with different length.\n",
    "#x_multi = [np.random.randn(n) for n in [10000, 5000, 2000]]\n",
    "ax3.hist(data['ipadSc_urls.num'], 6, density=True)\n",
    "ax3.set_title('ipadSc_urls.num')\n",
    "\n",
    "fig.tight_layout()\n",
    "plt.show()"
   ]
  },
  {
   "cell_type": "markdown",
   "metadata": {},
   "source": [
    "For the available language versions, it is a little bit left skewed, with more than half less than 20 kinds of languages. Little have more than 25 languages supported. The distribution is quite continuous.\n",
    "For the total supported devices number, almost are able to operate on more than 38 devices. We are able to say that the applicabiity and generosity are quite important when developing apps because nowdays people are using different kinds of devices and each person have multiple ones. The distribution is a little bit right skewed.\n",
    "For pictures posted on the app store, we can see that developers are divided in two types generally. One is less pictures and introductions, with 0 to 1 picutres, the other group is about 4 to 5 pictures and descriptions, which is more popular on the current market.\n"
   ]
  },
  {
   "cell_type": "markdown",
   "metadata": {},
   "source": [
    "Similar to the size_byte variable, the price is also very left-skewed. The reason is that 56.36% of the app in this dataset is free, which shows as below."
   ]
  },
  {
   "cell_type": "code",
   "execution_count": 149,
   "metadata": {},
   "outputs": [
    {
     "name": "stdout",
     "output_type": "stream",
     "text": [
      "56.35681533972489%\n"
     ]
    }
   ],
   "source": [
    "from collections import Counter\n",
    "price_count = Counter(data['price'].values)\n",
    "print(str(price_count[0]/np.sum(list(price_count.values()))*100)+'%')"
   ]
  },
  {
   "cell_type": "markdown",
   "metadata": {},
   "source": [
    "Next, we are going to explore some categorical variables in the dataset. The dataset is made up of 23 genres, among which games type has more than 3500, more than half of the total objects. The second popular genre is entertainment, followed by education genre. We can assume that people are more interested in gaming and entertainment for recreation on Apps currently. Game and entertainment developers are facing fierce competition and new entries are facing both opportunities and threats. Then a certain number of people are focusing on getting education and knowledge through App. As we know there are quite a lot of usefull education apps in use like TED. By contrast, the share of apps in medical type is the least. Maybe people are not laying too much trust on medical media. It may remind medicine corporations that App Store should not be considered a favorable exploring platform for marketing campaign. "
   ]
  },
  {
   "cell_type": "code",
   "execution_count": 150,
   "metadata": {
    "scrolled": true
   },
   "outputs": [
    {
     "data": {
      "image/png": "[encoded data removed]",
      "text/plain": [
       "<Figure size 432x288 with 1 Axes>"
      ]
     },
     "metadata": {
      "needs_background": "light"
     },
     "output_type": "display_data"
    }
   ],
   "source": [
    "#sns.set(rc={'figure.figsize':(10,5)})\n",
    "ax = sns.countplot(x=\"prime_genre\", data=data, palette=\"Set3\")\n",
    "ax.set_xticklabels(ax.get_xticklabels(),rotation=90)\n",
    "plt.show()"
   ]
  },
  {
   "cell_type": "markdown",
   "metadata": {},
   "source": [
    "When it comes to the average user rating for different genres, productivity is rated as the highest one, nearly 4.0. Music is also highly valued with a score of 4.0. Although games own the biggest share in the app market, the rating is just about 3.7. So there is room for improvement in Games Section. It is the same with Entertainment Section. The lowest average ratings lie on Book, Finance and Catalog."
   ]
  },
  {
   "cell_type": "code",
   "execution_count": 151,
   "metadata": {},
   "outputs": [],
   "source": [
    "cnt_srs = data[['prime_genre', 'user_rating']].groupby('prime_genre').mean()['user_rating'].sort_values(ascending=False)"
   ]
  },
  {
   "cell_type": "code",
   "execution_count": 152,
   "metadata": {
    "scrolled": true
   },
   "outputs": [
    {
     "data": {
      "image/png": "[encoded data removed]",
      "text/plain": [
       "<Figure size 432x288 with 1 Axes>"
      ]
     },
     "metadata": {
      "needs_background": "light"
     },
     "output_type": "display_data"
    }
   ],
   "source": [
    "ax = cnt_srs.plot.bar()\n",
    "ax.set_ylabel('avg user_rating')\n",
    "plt.show()"
   ]
  },
  {
   "cell_type": "markdown",
   "metadata": {},
   "source": [
    "The total number of rating for each content rating group is shown below. More than 4000 ratings are for games suitable for people older than 4, followed by 12+ and 9+ groups which have nearly 1000 ratings each. This is understandable because target customers for these groups are much more than those just for 17+. "
   ]
  },
  {
   "cell_type": "code",
   "execution_count": 153,
   "metadata": {
    "scrolled": false
   },
   "outputs": [
    {
     "data": {
      "image/png": "[encoded data removed]",
      "text/plain": [
       "<Figure size 432x288 with 1 Axes>"
      ]
     },
     "metadata": {
      "needs_background": "light"
     },
     "output_type": "display_data"
    }
   ],
   "source": [
    "ax = sns.countplot(x=\"cont_rating\", data=data, palette=\"Set2\")\n",
    "plt.show()"
   ]
  },
  {
   "cell_type": "markdown",
   "metadata": {},
   "source": [
    "The user_rating for each content rating group is shown below. The \"cont_rating\" means that only those users older than the specified age can download the APP. For apps suitable for people younger than 17, the average ratings are similar, around 3.5. For those only available for people older than 17, the rate decreases to nearly 2.7."
   ]
  },
  {
   "cell_type": "code",
   "execution_count": 154,
   "metadata": {},
   "outputs": [],
   "source": [
    "cont_user = data[['cont_rating', 'user_rating']].groupby('cont_rating').mean()['user_rating'].sort_values(ascending=False)"
   ]
  },
  {
   "cell_type": "code",
   "execution_count": 155,
   "metadata": {
    "scrolled": false
   },
   "outputs": [
    {
     "data": {
      "image/png": "[encoded data removed]",
      "text/plain": [
       "<Figure size 432x288 with 1 Axes>"
      ]
     },
     "metadata": {
      "needs_background": "light"
     },
     "output_type": "display_data"
    }
   ],
   "source": [
    "ax1 = cont_user.plot.bar()\n",
    "ax1.set_ylabel('avg user_rating')\n",
    "plt.show()"
   ]
  },
  {
   "cell_type": "code",
   "execution_count": 156,
   "metadata": {
    "slideshow": {
     "slide_type": "slide"
    }
   },
   "outputs": [],
   "source": [
    "version_user = data[['ver', 'user_rating']].groupby('ver').mean()['user_rating'].sort_values(ascending=False)"
   ]
  },
  {
   "cell_type": "code",
   "execution_count": 157,
   "metadata": {
    "slideshow": {
     "slide_type": "slide"
    }
   },
   "outputs": [
    {
     "data": {
      "image/png": "[encoded data removed]",
      "text/plain": [
       "<Figure size 432x288 with 1 Axes>"
      ]
     },
     "metadata": {
      "needs_background": "light"
     },
     "output_type": "display_data"
    }
   ],
   "source": [
    "version_user.plot.bar()\n",
    "plt.show()"
   ]
  },
  {
   "cell_type": "code",
   "execution_count": 158,
   "metadata": {},
   "outputs": [
    {
     "data": {
      "text/plain": [
       "1546"
      ]
     },
     "execution_count": 158,
     "metadata": {},
     "output_type": "execute_result"
    }
   ],
   "source": [
    "len(data['ver'].unique())"
   ]
  },
  {
   "cell_type": "markdown",
   "metadata": {},
   "source": [
    "By visualising the average rating for different versions of APPs, we realise that the \"ver\" variable is very difficult to analyse since different APPs have different version codes and there are simply too many unique values (i.e. 1546) of this variable."
   ]
  },
  {
   "cell_type": "markdown",
   "metadata": {},
   "source": [
    "## 3.5 Difference between free and paid apps"
   ]
  },
  {
   "cell_type": "markdown",
   "metadata": {},
   "source": [
    "#### Compare the rating of free and paid apps"
   ]
  },
  {
   "cell_type": "markdown",
   "metadata": {},
   "source": [
    "Firstly, we can create a new column called \"Free_App\", which equals 1 if the price is 0."
   ]
  },
  {
   "cell_type": "code",
   "execution_count": 159,
   "metadata": {},
   "outputs": [],
   "source": [
    "def free_app(x):\n",
    "    if x == 0:\n",
    "        return 1\n",
    "    else:\n",
    "        return 0\n",
    "\n",
    "data['Free_App'] = data['price'].apply(free_app)"
   ]
  },
  {
   "cell_type": "markdown",
   "metadata": {},
   "source": [
    "And then we can check if there is any difference of average rating for free app and paid app"
   ]
  },
  {
   "cell_type": "code",
   "execution_count": 160,
   "metadata": {},
   "outputs": [
    {
     "data": {
      "image/png": "[encoded data removed]",
      "text/plain": [
       "<Figure size 360x360 with 1 Axes>"
      ]
     },
     "metadata": {
      "needs_background": "light"
     },
     "output_type": "display_data"
    }
   ],
   "source": [
    "sns.catplot(x=\"Free_App\", y=\"user_rating\", kind=\"box\", data=data)\n",
    "plt.show()"
   ]
  },
  {
   "cell_type": "markdown",
   "metadata": {},
   "source": [
    "According to the above box plot, it seems like there is no significance different between the user rating of free apps and paid apps, even though free apps seems to have a wide spread of rating than paid apps."
   ]
  },
  {
   "cell_type": "markdown",
   "metadata": {},
   "source": [
    "#### % of free and paid app in each category"
   ]
  },
  {
   "cell_type": "code",
   "execution_count": 161,
   "metadata": {},
   "outputs": [],
   "source": [
    "genre_free_count = data[['prime_genre', 'Free_App']].groupby('prime_genre').sum().join(data[['prime_genre', 'Free_App']].groupby('prime_genre').count(),rsuffix='count')"
   ]
  },
  {
   "cell_type": "code",
   "execution_count": 162,
   "metadata": {},
   "outputs": [],
   "source": [
    "genre_free_count['Prop'] = genre_free_count['Free_App']/genre_free_count['Free_Appcount']\n",
    "genre_free_count = genre_free_count.sort_values(by='Prop',ascending=False)"
   ]
  },
  {
   "cell_type": "code",
   "execution_count": 163,
   "metadata": {},
   "outputs": [
    {
     "data": {
      "image/png": "[encoded data removed]",
      "text/plain": [
       "<Figure size 432x288 with 1 Axes>"
      ]
     },
     "metadata": {
      "needs_background": "light"
     },
     "output_type": "display_data"
    }
   ],
   "source": [
    "ax = genre_free_count['Prop'].plot.bar()\n",
    "ax.set_ylabel('Proportion of free apps in each genre')\n",
    "plt.show()"
   ]
  },
  {
   "cell_type": "markdown",
   "metadata": {},
   "source": [
    "The above graph shows the proportion of free apps in each of the category and there is a huge difference between various categories.Almost every shopping APPs are free, which actually makes sense because customers are shopping in the APP so they don't need to pay for the APP itself. And some other categories such as catalogs and social network APPs have a very high proportion of free APPs. While some other categories such as education, reference and medical have very low proportion of free apps because they are providing valuable information inside the APPs. "
   ]
  },
  {
   "cell_type": "markdown",
   "metadata": {},
   "source": [
    "## 3.6 Analysing the length of the APP name and its description"
   ]
  },
  {
   "cell_type": "markdown",
   "metadata": {},
   "source": [
    "We also try to explore whether the length of APP name and APP description would also have impact on the ratings of the APP, so we have defined a function to get the length of name and description, and we also check the correalation between the length of names and description and the user ratings. Finally, we ran the regression to check whether the correlation is significant in predicting the user rating. "
   ]
  },
  {
   "cell_type": "code",
   "execution_count": 164,
   "metadata": {},
   "outputs": [],
   "source": [
    "data['name_len'] = data['track_name_x'].apply(len)"
   ]
  },
  {
   "cell_type": "code",
   "execution_count": 165,
   "metadata": {},
   "outputs": [
    {
     "data": {
      "text/plain": [
       "(0.0811615859893802, 5.366220475421665e-12)"
      ]
     },
     "execution_count": 165,
     "metadata": {},
     "output_type": "execute_result"
    }
   ],
   "source": [
    "pearsonr(data['user_rating'],data['name_len'])"
   ]
  },
  {
   "cell_type": "code",
   "execution_count": 166,
   "metadata": {},
   "outputs": [],
   "source": [
    "def get_len(x):\n",
    "    a = len(x.split(' '))\n",
    "    return a\n",
    "\n",
    "data['desc_len'] = data['app_desc'].apply(get_len)"
   ]
  },
  {
   "cell_type": "code",
   "execution_count": 167,
   "metadata": {},
   "outputs": [
    {
     "data": {
      "text/plain": [
       "(0.3609146417269984, 2.3455481455744387e-220)"
      ]
     },
     "execution_count": 167,
     "metadata": {},
     "output_type": "execute_result"
    }
   ],
   "source": [
    "pearsonr(data['user_rating'],data['desc_len'])"
   ]
  },
  {
   "cell_type": "code",
   "execution_count": 168,
   "metadata": {},
   "outputs": [
    {
     "name": "stdout",
     "output_type": "stream",
     "text": [
      "                            OLS Regression Results                            \n",
      "==============================================================================\n",
      "Dep. Variable:                      y   R-squared:                       0.130\n",
      "Model:                            OLS   Adj. R-squared:                  0.130\n",
      "Method:                 Least Squares   F-statistic:                     1078.\n",
      "Date:                Mon, 10 Dec 2018   Prob (F-statistic):          2.35e-220\n",
      "Time:                        20:54:30   Log-Likelihood:                -12713.\n",
      "No. Observations:                7197   AIC:                         2.543e+04\n",
      "Df Residuals:                    7195   BIC:                         2.544e+04\n",
      "Df Model:                           1                                         \n",
      "Covariance Type:            nonrobust                                         \n",
      "==============================================================================\n",
      "                 coef    std err          t      P>|t|      [0.025      0.975]\n",
      "------------------------------------------------------------------------------\n",
      "const          2.8060      0.028    101.721      0.000       2.752       2.860\n",
      "x1             0.0032   9.63e-05     32.827      0.000       0.003       0.003\n",
      "==============================================================================\n",
      "Omnibus:                     1078.344   Durbin-Watson:                   1.869\n",
      "Prob(Omnibus):                  0.000   Jarque-Bera (JB):             1622.205\n",
      "Skew:                          -1.137   Prob(JB):                         0.00\n",
      "Kurtosis:                       3.488   Cond. No.                         474.\n",
      "==============================================================================\n",
      "\n",
      "Warnings:\n",
      "[1] Standard Errors assume that the covariance matrix of the errors is correctly specified.\n"
     ]
    }
   ],
   "source": [
    "X2 = sm.add_constant(np.array(data['desc_len']).reshape(-1,1))\n",
    "desc = sm.OLS(np.array(data['user_rating']), X2)\n",
    "desc2 = desc.fit()\n",
    "print(desc2.summary())"
   ]
  },
  {
   "cell_type": "markdown",
   "metadata": {},
   "source": [
    "The results of correlation coefficient shows some degree of correlation between length of description and user ratings, and the P-value of regression we ran above confirms that description length is significant in related to APP's user ratings. But the correlation between the length of name and average rating is not strong enough. "
   ]
  },
  {
   "cell_type": "markdown",
   "metadata": {},
   "source": [
    "## 3.7 Check the polarity and the subjectivity of the description"
   ]
  },
  {
   "cell_type": "markdown",
   "metadata": {},
   "source": [
    "To take a step further, we would also perform a sentiment analysis to figure out the degree of subjectivity and polarity of APP descriptions. After that, we would also check the correlation of the subjectivity and polarity with user ratings and run a regression to see whether they are also significant in predicting user ratings. "
   ]
  },
  {
   "cell_type": "markdown",
   "metadata": {},
   "source": [
    "we have imported TexBlob library and defined the following function so that we can acqiure the defined the polarity and subjectivity of APP descriptions."
   ]
  },
  {
   "cell_type": "code",
   "execution_count": 169,
   "metadata": {},
   "outputs": [],
   "source": [
    "def get_polarity(x):\n",
    "    polar = TextBlob(x).sentiment.polarity\n",
    "    return polar\n",
    "\n",
    "data['desc_polarity'] = data['app_desc'].apply(get_polarity)"
   ]
  },
  {
   "cell_type": "code",
   "execution_count": 170,
   "metadata": {},
   "outputs": [
    {
     "data": {
      "text/plain": [
       "(0.277560408376859, 1.8841412101750775e-127)"
      ]
     },
     "execution_count": 170,
     "metadata": {},
     "output_type": "execute_result"
    }
   ],
   "source": [
    "pearsonr(data['user_rating'],data['desc_polarity'])"
   ]
  },
  {
   "cell_type": "code",
   "execution_count": 171,
   "metadata": {},
   "outputs": [],
   "source": [
    "def get_subject(x):\n",
    "    subject = TextBlob(x).sentiment.subjectivity\n",
    "    return subject\n",
    "\n",
    "data['desc_subjectivity'] = data['app_desc'].apply(get_subject)"
   ]
  },
  {
   "cell_type": "code",
   "execution_count": 172,
   "metadata": {},
   "outputs": [
    {
     "data": {
      "text/plain": [
       "(0.4903613405030686, 0.0)"
      ]
     },
     "execution_count": 172,
     "metadata": {},
     "output_type": "execute_result"
    }
   ],
   "source": [
    "pearsonr(data['user_rating'],data['desc_subjectivity'])"
   ]
  },
  {
   "cell_type": "markdown",
   "metadata": {},
   "source": [
    "The Pearson R shows that the subjectivity is more correlated with user ratings than polarity. We then ran another regression below and the P-value also shows that it is significant in predicting APP user ratings. "
   ]
  },
  {
   "cell_type": "code",
   "execution_count": 173,
   "metadata": {},
   "outputs": [
    {
     "name": "stdout",
     "output_type": "stream",
     "text": [
      "                            OLS Regression Results                            \n",
      "==============================================================================\n",
      "Dep. Variable:                      y   R-squared:                       0.240\n",
      "Model:                            OLS   Adj. R-squared:                  0.240\n",
      "Method:                 Least Squares   F-statistic:                     1139.\n",
      "Date:                Mon, 10 Dec 2018   Prob (F-statistic):               0.00\n",
      "Time:                        20:55:05   Log-Likelihood:                -12226.\n",
      "No. Observations:                7197   AIC:                         2.446e+04\n",
      "Df Residuals:                    7194   BIC:                         2.448e+04\n",
      "Df Model:                           2                                         \n",
      "Covariance Type:            nonrobust                                         \n",
      "=====================================================================================\n",
      "                        coef    std err          t      P>|t|      [0.025      0.975]\n",
      "-------------------------------------------------------------------------------------\n",
      "const                 1.9005      0.037     50.704      0.000       1.827       1.974\n",
      "desc_subjectivity     3.6543      0.093     39.342      0.000       3.472       3.836\n",
      "desc_polarity        -0.0138      0.137     -0.101      0.920      -0.283       0.255\n",
      "==============================================================================\n",
      "Omnibus:                     1154.048   Durbin-Watson:                   1.855\n",
      "Prob(Omnibus):                  0.000   Jarque-Bera (JB):             2082.194\n",
      "Skew:                          -1.023   Prob(JB):                         0.00\n",
      "Kurtosis:                       4.661   Cond. No.                         10.7\n",
      "==============================================================================\n",
      "\n",
      "Warnings:\n",
      "[1] Standard Errors assume that the covariance matrix of the errors is correctly specified.\n"
     ]
    }
   ],
   "source": [
    "X2 = sm.add_constant(data[['desc_subjectivity','desc_polarity']])\n",
    "sent = sm.OLS(np.array(data['user_rating']), X2)\n",
    "sent2 = sent.fit()\n",
    "print(sent2.summary())"
   ]
  },
  {
   "cell_type": "markdown",
   "metadata": {},
   "source": [
    "The above regression result shows that when using both the polarity and subjectivity in the linear regression to predict the average rating, the polarity becomes insignificant becuase it has a large p-value, it suggests that polarity and subjectivity are largely containing similar information and we should only keep subjectivity in the regression."
   ]
  },
  {
   "cell_type": "markdown",
   "metadata": {},
   "source": [
    "# 4. Prepare the data"
   ]
  },
  {
   "cell_type": "markdown",
   "metadata": {},
   "source": [
    "## 4.1 Convert categorical variables into dummy variables"
   ]
  },
  {
   "cell_type": "code",
   "execution_count": 174,
   "metadata": {},
   "outputs": [],
   "source": [
    "data_genre = pd.get_dummies(data['prime_genre'])"
   ]
  },
  {
   "cell_type": "code",
   "execution_count": 175,
   "metadata": {},
   "outputs": [],
   "source": [
    "data_cont = pd.get_dummies(data['cont_rating'])"
   ]
  },
  {
   "cell_type": "code",
   "execution_count": 176,
   "metadata": {},
   "outputs": [],
   "source": [
    "data_join = data_genre.join(data_cont)"
   ]
  },
  {
   "cell_type": "code",
   "execution_count": 177,
   "metadata": {},
   "outputs": [],
   "source": [
    "data_dummy = data.join(data_join)"
   ]
  },
  {
   "cell_type": "code",
   "execution_count": 178,
   "metadata": {},
   "outputs": [
    {
     "data": {
      "text/plain": [
       "Index(['Unnamed: 0', 'id', 'track_name_x', 'size_bytes_x', 'currency', 'price',\n",
       "       'rating_count_tot', 'rating_count_ver', 'user_rating',\n",
       "       'user_rating_ver', 'ver', 'cont_rating', 'prime_genre',\n",
       "       'sup_devices.num', 'ipadSc_urls.num', 'lang.num', 'vpp_lic',\n",
       "       'track_name_y', 'size_bytes_y', 'app_desc', 'Free_App', 'name_len',\n",
       "       'desc_len', 'desc_polarity', 'desc_subjectivity', 'Book', 'Business',\n",
       "       'Catalogs', 'Education', 'Entertainment', 'Finance', 'Food & Drink',\n",
       "       'Games', 'Health & Fitness', 'Lifestyle', 'Medical', 'Music',\n",
       "       'Navigation', 'News', 'Photo & Video', 'Productivity', 'Reference',\n",
       "       'Shopping', 'Social Networking', 'Sports', 'Travel', 'Utilities',\n",
       "       'Weather', '12+', '17+', '4+', '9+'],\n",
       "      dtype='object')"
      ]
     },
     "execution_count": 178,
     "metadata": {},
     "output_type": "execute_result"
    }
   ],
   "source": [
    "data_dummy.columns"
   ]
  },
  {
   "cell_type": "markdown",
   "metadata": {},
   "source": [
    "## 4.2 Apply log to size variable"
   ]
  },
  {
   "cell_type": "code",
   "execution_count": 179,
   "metadata": {},
   "outputs": [],
   "source": [
    "data['log_size'] =  pd.np.log(data['size_bytes_x'])"
   ]
  },
  {
   "cell_type": "markdown",
   "metadata": {},
   "source": [
    "As mentioned before, we need to log the size of APP because it is extremely left-skwed."
   ]
  },
  {
   "cell_type": "markdown",
   "metadata": {},
   "source": [
    "## 4.3 Dropping not useful columns"
   ]
  },
  {
   "cell_type": "code",
   "execution_count": 84,
   "metadata": {},
   "outputs": [],
   "source": [
    "data_dropped = data_dummy.drop(['Unnamed: 0','id','track_name_x','currency','rating_count_ver','user_rating_ver','ver','cont_rating',\n",
    "                 'prime_genre','vpp_lic','track_name_y', 'size_bytes_y', 'app_desc','desc_polarity','name_len'],axis=1)"
   ]
  },
  {
   "cell_type": "markdown",
   "metadata": {},
   "source": [
    "## 4.4 Split the data into training and validation groups"
   ]
  },
  {
   "cell_type": "code",
   "execution_count": 180,
   "metadata": {},
   "outputs": [],
   "source": [
    "Y = data_dropped['user_rating']"
   ]
  },
  {
   "cell_type": "code",
   "execution_count": 181,
   "metadata": {},
   "outputs": [],
   "source": [
    "X = data_dropped.drop(['user_rating'],axis = 1)"
   ]
  },
  {
   "cell_type": "code",
   "execution_count": 182,
   "metadata": {},
   "outputs": [
    {
     "data": {
      "text/html": [
       "<div>\n",
       "<style scoped>\n",
       "    .dataframe tbody tr th:only-of-type {\n",
       "        vertical-align: middle;\n",
       "    }\n",
       "\n",
       "    .dataframe tbody tr th {\n",
       "        vertical-align: top;\n",
       "    }\n",
       "\n",
       "    .dataframe thead th {\n",
       "        text-align: right;\n",
       "    }\n",
       "</style>\n",
       "<table border=\"1\" class=\"dataframe\">\n",
       "  <thead>\n",
       "    <tr style=\"text-align: right;\">\n",
       "      <th></th>\n",
       "      <th>size_bytes_x</th>\n",
       "      <th>price</th>\n",
       "      <th>rating_count_tot</th>\n",
       "      <th>sup_devices.num</th>\n",
       "      <th>ipadSc_urls.num</th>\n",
       "      <th>lang.num</th>\n",
       "      <th>Free_App</th>\n",
       "      <th>desc_len</th>\n",
       "      <th>desc_subjectivity</th>\n",
       "      <th>Book</th>\n",
       "      <th>...</th>\n",
       "      <th>Shopping</th>\n",
       "      <th>Social Networking</th>\n",
       "      <th>Sports</th>\n",
       "      <th>Travel</th>\n",
       "      <th>Utilities</th>\n",
       "      <th>Weather</th>\n",
       "      <th>12+</th>\n",
       "      <th>17+</th>\n",
       "      <th>4+</th>\n",
       "      <th>9+</th>\n",
       "    </tr>\n",
       "  </thead>\n",
       "  <tbody>\n",
       "    <tr>\n",
       "      <th>0</th>\n",
       "      <td>100788224</td>\n",
       "      <td>3.99</td>\n",
       "      <td>21292</td>\n",
       "      <td>38</td>\n",
       "      <td>5</td>\n",
       "      <td>10</td>\n",
       "      <td>0</td>\n",
       "      <td>252</td>\n",
       "      <td>0.419027</td>\n",
       "      <td>0</td>\n",
       "      <td>...</td>\n",
       "      <td>0</td>\n",
       "      <td>0</td>\n",
       "      <td>0</td>\n",
       "      <td>0</td>\n",
       "      <td>0</td>\n",
       "      <td>0</td>\n",
       "      <td>0</td>\n",
       "      <td>0</td>\n",
       "      <td>1</td>\n",
       "      <td>0</td>\n",
       "    </tr>\n",
       "    <tr>\n",
       "      <th>1</th>\n",
       "      <td>158578688</td>\n",
       "      <td>0.00</td>\n",
       "      <td>161065</td>\n",
       "      <td>37</td>\n",
       "      <td>5</td>\n",
       "      <td>23</td>\n",
       "      <td>1</td>\n",
       "      <td>572</td>\n",
       "      <td>0.445654</td>\n",
       "      <td>0</td>\n",
       "      <td>...</td>\n",
       "      <td>0</td>\n",
       "      <td>0</td>\n",
       "      <td>0</td>\n",
       "      <td>0</td>\n",
       "      <td>0</td>\n",
       "      <td>0</td>\n",
       "      <td>0</td>\n",
       "      <td>0</td>\n",
       "      <td>1</td>\n",
       "      <td>0</td>\n",
       "    </tr>\n",
       "    <tr>\n",
       "      <th>2</th>\n",
       "      <td>100524032</td>\n",
       "      <td>0.00</td>\n",
       "      <td>188583</td>\n",
       "      <td>37</td>\n",
       "      <td>5</td>\n",
       "      <td>3</td>\n",
       "      <td>1</td>\n",
       "      <td>288</td>\n",
       "      <td>0.491667</td>\n",
       "      <td>0</td>\n",
       "      <td>...</td>\n",
       "      <td>0</td>\n",
       "      <td>0</td>\n",
       "      <td>0</td>\n",
       "      <td>0</td>\n",
       "      <td>0</td>\n",
       "      <td>1</td>\n",
       "      <td>0</td>\n",
       "      <td>0</td>\n",
       "      <td>1</td>\n",
       "      <td>0</td>\n",
       "    </tr>\n",
       "    <tr>\n",
       "      <th>3</th>\n",
       "      <td>128512000</td>\n",
       "      <td>0.00</td>\n",
       "      <td>262241</td>\n",
       "      <td>37</td>\n",
       "      <td>5</td>\n",
       "      <td>9</td>\n",
       "      <td>1</td>\n",
       "      <td>638</td>\n",
       "      <td>0.541512</td>\n",
       "      <td>0</td>\n",
       "      <td>...</td>\n",
       "      <td>1</td>\n",
       "      <td>0</td>\n",
       "      <td>0</td>\n",
       "      <td>0</td>\n",
       "      <td>0</td>\n",
       "      <td>0</td>\n",
       "      <td>1</td>\n",
       "      <td>0</td>\n",
       "      <td>0</td>\n",
       "      <td>0</td>\n",
       "    </tr>\n",
       "    <tr>\n",
       "      <th>4</th>\n",
       "      <td>92774400</td>\n",
       "      <td>0.00</td>\n",
       "      <td>985920</td>\n",
       "      <td>37</td>\n",
       "      <td>5</td>\n",
       "      <td>45</td>\n",
       "      <td>1</td>\n",
       "      <td>452</td>\n",
       "      <td>0.533908</td>\n",
       "      <td>0</td>\n",
       "      <td>...</td>\n",
       "      <td>0</td>\n",
       "      <td>0</td>\n",
       "      <td>0</td>\n",
       "      <td>0</td>\n",
       "      <td>0</td>\n",
       "      <td>0</td>\n",
       "      <td>0</td>\n",
       "      <td>0</td>\n",
       "      <td>1</td>\n",
       "      <td>0</td>\n",
       "    </tr>\n",
       "  </tbody>\n",
       "</table>\n",
       "<p>5 rows × 36 columns</p>\n",
       "</div>"
      ],
      "text/plain": [
       "   size_bytes_x  price  rating_count_tot  sup_devices.num  ipadSc_urls.num  \\\n",
       "0     100788224   3.99             21292               38                5   \n",
       "1     158578688   0.00            161065               37                5   \n",
       "2     100524032   0.00            188583               37                5   \n",
       "3     128512000   0.00            262241               37                5   \n",
       "4      92774400   0.00            985920               37                5   \n",
       "\n",
       "   lang.num  Free_App  desc_len  desc_subjectivity  Book ...  Shopping  \\\n",
       "0        10         0       252           0.419027     0 ...         0   \n",
       "1        23         1       572           0.445654     0 ...         0   \n",
       "2         3         1       288           0.491667     0 ...         0   \n",
       "3         9         1       638           0.541512     0 ...         1   \n",
       "4        45         1       452           0.533908     0 ...         0   \n",
       "\n",
       "   Social Networking  Sports  Travel  Utilities  Weather  12+  17+  4+  9+  \n",
       "0                  0       0       0          0        0    0    0   1   0  \n",
       "1                  0       0       0          0        0    0    0   1   0  \n",
       "2                  0       0       0          0        1    0    0   1   0  \n",
       "3                  0       0       0          0        0    1    0   0   0  \n",
       "4                  0       0       0          0        0    0    0   1   0  \n",
       "\n",
       "[5 rows x 36 columns]"
      ]
     },
     "execution_count": 182,
     "metadata": {},
     "output_type": "execute_result"
    }
   ],
   "source": [
    "X.head()"
   ]
  },
  {
   "cell_type": "code",
   "execution_count": 183,
   "metadata": {},
   "outputs": [
    {
     "data": {
      "text/plain": [
       "(7197, 36)"
      ]
     },
     "execution_count": 183,
     "metadata": {},
     "output_type": "execute_result"
    }
   ],
   "source": [
    "X.shape"
   ]
  },
  {
   "cell_type": "markdown",
   "metadata": {},
   "source": [
    "The preprocessed dataset contains 36 independent variables that can be used to predict the average rating of APPs."
   ]
  },
  {
   "cell_type": "code",
   "execution_count": 184,
   "metadata": {},
   "outputs": [
    {
     "name": "stdout",
     "output_type": "stream",
     "text": [
      "(5757, 36)\n",
      "(1440, 36)\n"
     ]
    }
   ],
   "source": [
    "X_train, X_test, y_train, y_test = train_test_split(X, Y, test_size = 0.2, random_state = 0)\n",
    "print(X_train.shape)\n",
    "print(X_test.shape)"
   ]
  },
  {
   "cell_type": "markdown",
   "metadata": {},
   "source": [
    "Using the sklearn library, we can split the preprocessed dataset into a training set with 80% of data and a test set with 20% of data."
   ]
  },
  {
   "cell_type": "markdown",
   "metadata": {},
   "source": [
    "# 5. Model building"
   ]
  },
  {
   "cell_type": "markdown",
   "metadata": {},
   "source": [
    "## 5.1 Build the linear regression model using the training set"
   ]
  },
  {
   "cell_type": "code",
   "execution_count": 185,
   "metadata": {},
   "outputs": [
    {
     "name": "stdout",
     "output_type": "stream",
     "text": [
      "                            OLS Regression Results                            \n",
      "==============================================================================\n",
      "Dep. Variable:            user_rating   R-squared:                       0.308\n",
      "Model:                            OLS   Adj. R-squared:                  0.304\n",
      "Method:                 Least Squares   F-statistic:                     75.04\n",
      "Date:                Mon, 10 Dec 2018   Prob (F-statistic):               0.00\n",
      "Time:                        20:55:25   Log-Likelihood:                -9554.5\n",
      "No. Observations:                5757   AIC:                         1.918e+04\n",
      "Df Residuals:                    5722   BIC:                         1.941e+04\n",
      "Df Model:                          34                                         \n",
      "Covariance Type:            nonrobust                                         \n",
      "=====================================================================================\n",
      "                        coef    std err          t      P>|t|      [0.025      0.975]\n",
      "-------------------------------------------------------------------------------------\n",
      "const                 1.4104      0.145      9.705      0.000       1.126       1.695\n",
      "size_bytes_x      -4.586e-11   5.02e-11     -0.913      0.361   -1.44e-10    5.26e-11\n",
      "price                -0.0011      0.003     -0.382      0.703      -0.007       0.005\n",
      "rating_count_tot   7.069e-07   2.23e-07      3.172      0.002     2.7e-07    1.14e-06\n",
      "sup_devices.num      -0.0091      0.005     -1.955      0.051      -0.018    2.55e-05\n",
      "ipadSc_urls.num       0.1043      0.010     10.743      0.000       0.085       0.123\n",
      "lang.num              0.0132      0.002      5.870      0.000       0.009       0.018\n",
      "Free_App             -0.0610      0.038     -1.588      0.112      -0.136       0.014\n",
      "desc_len              0.0015      0.000     12.763      0.000       0.001       0.002\n",
      "desc_subjectivity     2.6990      0.096     28.215      0.000       2.511       2.887\n",
      "Book                 -0.2910      0.133     -2.189      0.029      -0.552      -0.030\n",
      "Business              0.2612      0.181      1.445      0.149      -0.093       0.616\n",
      "Catalogs             -1.1017      0.434     -2.541      0.011      -1.952      -0.252\n",
      "Education            -0.2308      0.076     -3.036      0.002      -0.380      -0.082\n",
      "Entertainment         0.0089      0.070      0.127      0.899      -0.128       0.145\n",
      "Finance               0.0715      0.147      0.487      0.626      -0.216       0.359\n",
      "Food & Drink          0.3747      0.163      2.297      0.022       0.055       0.694\n",
      "Games                 0.2276      0.048      4.694      0.000       0.133       0.323\n",
      "Health & Fitness      0.2181      0.108      2.023      0.043       0.007       0.429\n",
      "Lifestyle            -0.0309      0.122     -0.253      0.800      -0.270       0.208\n",
      "Medical              -0.0945      0.292     -0.324      0.746      -0.667       0.478\n",
      "Music                 0.2020      0.121      1.671      0.095      -0.035       0.439\n",
      "Navigation           -0.4060      0.207     -1.964      0.050      -0.811      -0.001\n",
      "News                  0.0404      0.159      0.254      0.799      -0.271       0.352\n",
      "Photo & Video         0.2017      0.082      2.473      0.013       0.042       0.362\n",
      "Productivity          0.3849      0.111      3.472      0.001       0.168       0.602\n",
      "Reference             0.3724      0.174      2.145      0.032       0.032       0.713\n",
      "Shopping              0.6313      0.132      4.786      0.000       0.373       0.890\n",
      "Social Networking     0.0896      0.113      0.796      0.426      -0.131       0.310\n",
      "Sports               -0.2318      0.129     -1.796      0.073      -0.485       0.021\n",
      "Travel                0.4394      0.158      2.782      0.005       0.130       0.749\n",
      "Utilities             0.1375      0.094      1.469      0.142      -0.046       0.321\n",
      "Weather               0.1360      0.166      0.818      0.413      -0.190       0.462\n",
      "12+                   0.3476      0.054      6.388      0.000       0.241       0.454\n",
      "17+                   0.3038      0.061      5.008      0.000       0.185       0.423\n",
      "4+                    0.3145      0.045      7.042      0.000       0.227       0.402\n",
      "9+                    0.4446      0.055      8.152      0.000       0.338       0.551\n",
      "==============================================================================\n",
      "Omnibus:                      596.783   Durbin-Watson:                   2.012\n",
      "Prob(Omnibus):                  0.000   Jarque-Bera (JB):              991.226\n",
      "Skew:                          -0.735   Prob(JB):                    5.73e-216\n",
      "Kurtosis:                       4.405   Cond. No.                     5.33e+16\n",
      "==============================================================================\n",
      "\n",
      "Warnings:\n",
      "[1] Standard Errors assume that the covariance matrix of the errors is correctly specified.\n",
      "[2] The smallest eigenvalue is 3.64e-13. This might indicate that there are\n",
      "strong multicollinearity problems or that the design matrix is singular.\n"
     ]
    }
   ],
   "source": [
    "X1 = sm.add_constant(X_train)\n",
    "ols = sm.OLS(y_train, X1)\n",
    "ols_fit = ols.fit()\n",
    "print(ols_fit.summary())"
   ]
  },
  {
   "cell_type": "markdown",
   "metadata": {},
   "source": [
    "As shown in the linear regression result, the model on the training set achieve an adjusted R-squared of about 30% and the most important variable in this regression is clearly the \"desc_subjectivity\" with the highest coefficient and a p-value of 0."
   ]
  },
  {
   "cell_type": "markdown",
   "metadata": {},
   "source": [
    "#### This is a very important finding for this project. The importance of description subjectivity in predicting average rating an APP suggests that APP developers should focus on writing more subjective description of their APPs, which might make the APPs more attractive to their potential customers and increases their rating. "
   ]
  },
  {
   "cell_type": "markdown",
   "metadata": {},
   "source": [
    "According to the final result run by the model, desc_subjectivity is the most influential independent variable among with a p-value of 0.000. It can be said that the subjectivity of reviews have large impact on rating at a significant level of 0.01%. The relation is positive, with the subjectivity increasing 1 unit, the rating increasing 2.699. The insight here is how customers perceive text descriptions are important. Firstly, developers should give non-biased, subjective descriptions for their own products, without being too aggressive. Secondly, it is useful to pay attention to customer psychological and mental attributes in the particular targeted segments in order to come up with subjective descriptions. Differnt customers have differnt definations about subjectivity. Only by designing a perfect app is far away from popularity and trend. How to convey the accurate messages to potential customers is also important in the post period."
   ]
  },
  {
   "cell_type": "markdown",
   "metadata": {},
   "source": [
    "The second important indicator is numbers of description. More descriptions can lead to a higher rating. One unit increase in the number of image description can lead to increase in rating by 0.1043, at a significant level of 99.9%. This is intuitive. Potential customers love to know more about apps theme, function, instructions, interface in details before deciding to download. More exposure bring up customers’ confidence and show developers’ commitment and devotion. Controlling others, a recommendation about more descriptions on the app store can be given to developers at the aim of improving rating scores. Regarding to current project, improvements can be made by integrating with more data about how the introduction is made, which aspect is displayed, any incentive point."
   ]
  },
  {
   "cell_type": "markdown",
   "metadata": {},
   "source": [
    "Turning to p-value, size, price and free-app are not significant as their p-values exceed 10%. The hypotheses about they make no difference on ratings are retained based on this dataset. Possible explanations are come up: Maybe with increasing income and willingness to spend more on apps, dependence on electronic devices, people do not care about higher price, which cannot be an obstacle of evaluating apps. They will not dislike an app just because of high price. Customers accept reasonable price because of good experience brought by apps. The same is with size. Maybe more people have large storage and faster running speed on their devices compared with past. There is no need to reject an app and its function only because of large size. For developers, price and size should be given less attention. The quality and function should be prioritized."
   ]
  },
  {
   "cell_type": "markdown",
   "metadata": {},
   "source": [
    "## 5.2 Test the model on the test set"
   ]
  },
  {
   "cell_type": "code",
   "execution_count": 186,
   "metadata": {},
   "outputs": [],
   "source": [
    "X_test = sm.add_constant(X_test)\n",
    "y_predict = ols_fit.predict(X_test)"
   ]
  },
  {
   "cell_type": "code",
   "execution_count": 187,
   "metadata": {},
   "outputs": [
    {
     "data": {
      "text/plain": [
       "1.4643639859611928"
      ]
     },
     "execution_count": 187,
     "metadata": {},
     "output_type": "execute_result"
    }
   ],
   "source": [
    "sklearn.metrics.mean_squared_error(y_test, y_predict)"
   ]
  },
  {
   "cell_type": "code",
   "execution_count": 188,
   "metadata": {},
   "outputs": [
    {
     "data": {
      "text/plain": [
       "0.3212234964711608"
      ]
     },
     "execution_count": 188,
     "metadata": {},
     "output_type": "execute_result"
    }
   ],
   "source": [
    "sklearn.metrics.r2_score(y_test, y_predict)"
   ]
  },
  {
   "cell_type": "markdown",
   "metadata": {},
   "source": [
    "The above model performance measurement shows that the linear regression model on the testing test achieve a mean squared error of 1.46 and a R-squared of 32%, which is even higher than the training set R-squared. This suggests that no over-fitting problem in this model"
   ]
  },
  {
   "cell_type": "markdown",
   "metadata": {},
   "source": [
    "# 6. Reflection\n"
   ]
  },
  {
   "cell_type": "markdown",
   "metadata": {},
   "source": [
    "## 6.1 Solution\n",
    "\n",
    "The solutions we provided have met the business objectives. Since we have analysed the effects of each factor which enabled the delivery of key information on the contribution towards user rating. Also, by applying statistical analyses, we have identified key findings for app developers to improve their current applications and also creating future applications that are suitable for the markets "
   ]
  },
  {
   "cell_type": "markdown",
   "metadata": {},
   "source": [
    "## 6.2 Assumptions\n",
    "\n",
    "1. We assumed that this dataset could represent the mobile application market\n",
    "2. We assumed the dataset does not have time effect"
   ]
  },
  {
   "cell_type": "markdown",
   "metadata": {},
   "source": [
    "## 6.3 Limitations\n",
    "\n",
    "1. There are only limited variables included in the dataset and some of them are unable to interpret such as track_name and vpp_lic\n",
    "\n",
    "2. We did not take into the account other external factors such as economic situations and trend of application selections\n",
    "\n",
    "3. This dataset only focus on IOS store which Andriod applications could have different results compare to these analyses\n",
    "\n",
    "4. The total number of observations is relatively small which further improvements could be made by collecting more data as well as combining more dataset "
   ]
  }
 ],
 "metadata": {
  "kernelspec": {
   "display_name": "Python [default]",
   "language": "python",
   "name": "python3"
  },
  "language_info": {
   "codemirror_mode": {
    "name": "ipython",
    "version": 3
   },
   "file_extension": ".py",
   "mimetype": "text/x-python",
   "name": "python",
   "nbconvert_exporter": "python",
   "pygments_lexer": "ipython3",
   "version": "3.6.6"
  }
 },
 "nbformat": 4,
 "nbformat_minor": 2
}
